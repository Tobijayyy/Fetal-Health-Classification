{
 "cells": [
  {
   "cell_type": "code",
   "execution_count": 3,
   "id": "c4328bcf-35d8-4d34-a0d1-6226727e2cc6",
   "metadata": {},
   "outputs": [],
   "source": [
    "import pandas as pd\n",
    "import numpy as np"
   ]
  },
  {
   "cell_type": "code",
   "execution_count": 49,
   "id": "1c9fb288-2a80-436b-b9ce-3fd63ee746b0",
   "metadata": {},
   "outputs": [],
   "source": [
    "df = pd.read_csv('fetal_health.csv')"
   ]
  },
  {
   "cell_type": "code",
   "execution_count": 5,
   "id": "30832074-5e1d-427a-96a5-0b37ebf4e3b6",
   "metadata": {
    "scrolled": true
   },
   "outputs": [
    {
     "name": "stdout",
     "output_type": "stream",
     "text": [
      "<class 'pandas.core.frame.DataFrame'>\n",
      "RangeIndex: 2126 entries, 0 to 2125\n",
      "Data columns (total 22 columns):\n",
      " #   Column                                                  Non-Null Count  Dtype  \n",
      "---  ------                                                  --------------  -----  \n",
      " 0   baseline value                                          2126 non-null   float64\n",
      " 1   accelerations                                           2126 non-null   float64\n",
      " 2   fetal_movement                                          2126 non-null   float64\n",
      " 3   uterine_contractions                                    2126 non-null   float64\n",
      " 4   light_decelerations                                     2126 non-null   float64\n",
      " 5   severe_decelerations                                    2126 non-null   float64\n",
      " 6   prolongued_decelerations                                2126 non-null   float64\n",
      " 7   abnormal_short_term_variability                         2126 non-null   float64\n",
      " 8   mean_value_of_short_term_variability                    2126 non-null   float64\n",
      " 9   percentage_of_time_with_abnormal_long_term_variability  2126 non-null   float64\n",
      " 10  mean_value_of_long_term_variability                     2126 non-null   float64\n",
      " 11  histogram_width                                         2126 non-null   float64\n",
      " 12  histogram_min                                           2126 non-null   float64\n",
      " 13  histogram_max                                           2126 non-null   float64\n",
      " 14  histogram_number_of_peaks                               2126 non-null   float64\n",
      " 15  histogram_number_of_zeroes                              2126 non-null   float64\n",
      " 16  histogram_mode                                          2126 non-null   float64\n",
      " 17  histogram_mean                                          2126 non-null   float64\n",
      " 18  histogram_median                                        2126 non-null   float64\n",
      " 19  histogram_variance                                      2126 non-null   float64\n",
      " 20  histogram_tendency                                      2126 non-null   float64\n",
      " 21  fetal_health                                            2126 non-null   float64\n",
      "dtypes: float64(22)\n",
      "memory usage: 365.5 KB\n"
     ]
    }
   ],
   "source": [
    "df.info()"
   ]
  },
  {
   "cell_type": "code",
   "execution_count": 6,
   "id": "d46b2d55-f46e-4248-a95a-19922c00add8",
   "metadata": {},
   "outputs": [
    {
     "data": {
      "text/html": [
       "<div>\n",
       "<style scoped>\n",
       "    .dataframe tbody tr th:only-of-type {\n",
       "        vertical-align: middle;\n",
       "    }\n",
       "\n",
       "    .dataframe tbody tr th {\n",
       "        vertical-align: top;\n",
       "    }\n",
       "\n",
       "    .dataframe thead th {\n",
       "        text-align: right;\n",
       "    }\n",
       "</style>\n",
       "<table border=\"1\" class=\"dataframe\">\n",
       "  <thead>\n",
       "    <tr style=\"text-align: right;\">\n",
       "      <th></th>\n",
       "      <th>baseline value</th>\n",
       "      <th>accelerations</th>\n",
       "      <th>fetal_movement</th>\n",
       "      <th>uterine_contractions</th>\n",
       "      <th>light_decelerations</th>\n",
       "      <th>severe_decelerations</th>\n",
       "      <th>prolongued_decelerations</th>\n",
       "      <th>abnormal_short_term_variability</th>\n",
       "      <th>mean_value_of_short_term_variability</th>\n",
       "      <th>percentage_of_time_with_abnormal_long_term_variability</th>\n",
       "      <th>...</th>\n",
       "      <th>histogram_min</th>\n",
       "      <th>histogram_max</th>\n",
       "      <th>histogram_number_of_peaks</th>\n",
       "      <th>histogram_number_of_zeroes</th>\n",
       "      <th>histogram_mode</th>\n",
       "      <th>histogram_mean</th>\n",
       "      <th>histogram_median</th>\n",
       "      <th>histogram_variance</th>\n",
       "      <th>histogram_tendency</th>\n",
       "      <th>fetal_health</th>\n",
       "    </tr>\n",
       "  </thead>\n",
       "  <tbody>\n",
       "    <tr>\n",
       "      <th>count</th>\n",
       "      <td>2126.000000</td>\n",
       "      <td>2126.000000</td>\n",
       "      <td>2126.000000</td>\n",
       "      <td>2126.000000</td>\n",
       "      <td>2126.000000</td>\n",
       "      <td>2126.000000</td>\n",
       "      <td>2126.000000</td>\n",
       "      <td>2126.000000</td>\n",
       "      <td>2126.000000</td>\n",
       "      <td>2126.00000</td>\n",
       "      <td>...</td>\n",
       "      <td>2126.000000</td>\n",
       "      <td>2126.000000</td>\n",
       "      <td>2126.000000</td>\n",
       "      <td>2126.000000</td>\n",
       "      <td>2126.000000</td>\n",
       "      <td>2126.000000</td>\n",
       "      <td>2126.000000</td>\n",
       "      <td>2126.000000</td>\n",
       "      <td>2126.000000</td>\n",
       "      <td>2126.000000</td>\n",
       "    </tr>\n",
       "    <tr>\n",
       "      <th>mean</th>\n",
       "      <td>133.303857</td>\n",
       "      <td>0.003178</td>\n",
       "      <td>0.009481</td>\n",
       "      <td>0.004366</td>\n",
       "      <td>0.001889</td>\n",
       "      <td>0.000003</td>\n",
       "      <td>0.000159</td>\n",
       "      <td>46.990122</td>\n",
       "      <td>1.332785</td>\n",
       "      <td>9.84666</td>\n",
       "      <td>...</td>\n",
       "      <td>93.579492</td>\n",
       "      <td>164.025400</td>\n",
       "      <td>4.068203</td>\n",
       "      <td>0.323612</td>\n",
       "      <td>137.452023</td>\n",
       "      <td>134.610536</td>\n",
       "      <td>138.090310</td>\n",
       "      <td>18.808090</td>\n",
       "      <td>0.320320</td>\n",
       "      <td>1.304327</td>\n",
       "    </tr>\n",
       "    <tr>\n",
       "      <th>std</th>\n",
       "      <td>9.840844</td>\n",
       "      <td>0.003866</td>\n",
       "      <td>0.046666</td>\n",
       "      <td>0.002946</td>\n",
       "      <td>0.002960</td>\n",
       "      <td>0.000057</td>\n",
       "      <td>0.000590</td>\n",
       "      <td>17.192814</td>\n",
       "      <td>0.883241</td>\n",
       "      <td>18.39688</td>\n",
       "      <td>...</td>\n",
       "      <td>29.560212</td>\n",
       "      <td>17.944183</td>\n",
       "      <td>2.949386</td>\n",
       "      <td>0.706059</td>\n",
       "      <td>16.381289</td>\n",
       "      <td>15.593596</td>\n",
       "      <td>14.466589</td>\n",
       "      <td>28.977636</td>\n",
       "      <td>0.610829</td>\n",
       "      <td>0.614377</td>\n",
       "    </tr>\n",
       "    <tr>\n",
       "      <th>min</th>\n",
       "      <td>106.000000</td>\n",
       "      <td>0.000000</td>\n",
       "      <td>0.000000</td>\n",
       "      <td>0.000000</td>\n",
       "      <td>0.000000</td>\n",
       "      <td>0.000000</td>\n",
       "      <td>0.000000</td>\n",
       "      <td>12.000000</td>\n",
       "      <td>0.200000</td>\n",
       "      <td>0.00000</td>\n",
       "      <td>...</td>\n",
       "      <td>50.000000</td>\n",
       "      <td>122.000000</td>\n",
       "      <td>0.000000</td>\n",
       "      <td>0.000000</td>\n",
       "      <td>60.000000</td>\n",
       "      <td>73.000000</td>\n",
       "      <td>77.000000</td>\n",
       "      <td>0.000000</td>\n",
       "      <td>-1.000000</td>\n",
       "      <td>1.000000</td>\n",
       "    </tr>\n",
       "    <tr>\n",
       "      <th>25%</th>\n",
       "      <td>126.000000</td>\n",
       "      <td>0.000000</td>\n",
       "      <td>0.000000</td>\n",
       "      <td>0.002000</td>\n",
       "      <td>0.000000</td>\n",
       "      <td>0.000000</td>\n",
       "      <td>0.000000</td>\n",
       "      <td>32.000000</td>\n",
       "      <td>0.700000</td>\n",
       "      <td>0.00000</td>\n",
       "      <td>...</td>\n",
       "      <td>67.000000</td>\n",
       "      <td>152.000000</td>\n",
       "      <td>2.000000</td>\n",
       "      <td>0.000000</td>\n",
       "      <td>129.000000</td>\n",
       "      <td>125.000000</td>\n",
       "      <td>129.000000</td>\n",
       "      <td>2.000000</td>\n",
       "      <td>0.000000</td>\n",
       "      <td>1.000000</td>\n",
       "    </tr>\n",
       "    <tr>\n",
       "      <th>50%</th>\n",
       "      <td>133.000000</td>\n",
       "      <td>0.002000</td>\n",
       "      <td>0.000000</td>\n",
       "      <td>0.004000</td>\n",
       "      <td>0.000000</td>\n",
       "      <td>0.000000</td>\n",
       "      <td>0.000000</td>\n",
       "      <td>49.000000</td>\n",
       "      <td>1.200000</td>\n",
       "      <td>0.00000</td>\n",
       "      <td>...</td>\n",
       "      <td>93.000000</td>\n",
       "      <td>162.000000</td>\n",
       "      <td>3.000000</td>\n",
       "      <td>0.000000</td>\n",
       "      <td>139.000000</td>\n",
       "      <td>136.000000</td>\n",
       "      <td>139.000000</td>\n",
       "      <td>7.000000</td>\n",
       "      <td>0.000000</td>\n",
       "      <td>1.000000</td>\n",
       "    </tr>\n",
       "    <tr>\n",
       "      <th>75%</th>\n",
       "      <td>140.000000</td>\n",
       "      <td>0.006000</td>\n",
       "      <td>0.003000</td>\n",
       "      <td>0.007000</td>\n",
       "      <td>0.003000</td>\n",
       "      <td>0.000000</td>\n",
       "      <td>0.000000</td>\n",
       "      <td>61.000000</td>\n",
       "      <td>1.700000</td>\n",
       "      <td>11.00000</td>\n",
       "      <td>...</td>\n",
       "      <td>120.000000</td>\n",
       "      <td>174.000000</td>\n",
       "      <td>6.000000</td>\n",
       "      <td>0.000000</td>\n",
       "      <td>148.000000</td>\n",
       "      <td>145.000000</td>\n",
       "      <td>148.000000</td>\n",
       "      <td>24.000000</td>\n",
       "      <td>1.000000</td>\n",
       "      <td>1.000000</td>\n",
       "    </tr>\n",
       "    <tr>\n",
       "      <th>max</th>\n",
       "      <td>160.000000</td>\n",
       "      <td>0.019000</td>\n",
       "      <td>0.481000</td>\n",
       "      <td>0.015000</td>\n",
       "      <td>0.015000</td>\n",
       "      <td>0.001000</td>\n",
       "      <td>0.005000</td>\n",
       "      <td>87.000000</td>\n",
       "      <td>7.000000</td>\n",
       "      <td>91.00000</td>\n",
       "      <td>...</td>\n",
       "      <td>159.000000</td>\n",
       "      <td>238.000000</td>\n",
       "      <td>18.000000</td>\n",
       "      <td>10.000000</td>\n",
       "      <td>187.000000</td>\n",
       "      <td>182.000000</td>\n",
       "      <td>186.000000</td>\n",
       "      <td>269.000000</td>\n",
       "      <td>1.000000</td>\n",
       "      <td>3.000000</td>\n",
       "    </tr>\n",
       "  </tbody>\n",
       "</table>\n",
       "<p>8 rows × 22 columns</p>\n",
       "</div>"
      ],
      "text/plain": [
       "       baseline value  accelerations  fetal_movement  uterine_contractions  \\\n",
       "count     2126.000000    2126.000000     2126.000000           2126.000000   \n",
       "mean       133.303857       0.003178        0.009481              0.004366   \n",
       "std          9.840844       0.003866        0.046666              0.002946   \n",
       "min        106.000000       0.000000        0.000000              0.000000   \n",
       "25%        126.000000       0.000000        0.000000              0.002000   \n",
       "50%        133.000000       0.002000        0.000000              0.004000   \n",
       "75%        140.000000       0.006000        0.003000              0.007000   \n",
       "max        160.000000       0.019000        0.481000              0.015000   \n",
       "\n",
       "       light_decelerations  severe_decelerations  prolongued_decelerations  \\\n",
       "count          2126.000000           2126.000000               2126.000000   \n",
       "mean              0.001889              0.000003                  0.000159   \n",
       "std               0.002960              0.000057                  0.000590   \n",
       "min               0.000000              0.000000                  0.000000   \n",
       "25%               0.000000              0.000000                  0.000000   \n",
       "50%               0.000000              0.000000                  0.000000   \n",
       "75%               0.003000              0.000000                  0.000000   \n",
       "max               0.015000              0.001000                  0.005000   \n",
       "\n",
       "       abnormal_short_term_variability  mean_value_of_short_term_variability  \\\n",
       "count                      2126.000000                           2126.000000   \n",
       "mean                         46.990122                              1.332785   \n",
       "std                          17.192814                              0.883241   \n",
       "min                          12.000000                              0.200000   \n",
       "25%                          32.000000                              0.700000   \n",
       "50%                          49.000000                              1.200000   \n",
       "75%                          61.000000                              1.700000   \n",
       "max                          87.000000                              7.000000   \n",
       "\n",
       "       percentage_of_time_with_abnormal_long_term_variability  ...  \\\n",
       "count                                         2126.00000       ...   \n",
       "mean                                             9.84666       ...   \n",
       "std                                             18.39688       ...   \n",
       "min                                              0.00000       ...   \n",
       "25%                                              0.00000       ...   \n",
       "50%                                              0.00000       ...   \n",
       "75%                                             11.00000       ...   \n",
       "max                                             91.00000       ...   \n",
       "\n",
       "       histogram_min  histogram_max  histogram_number_of_peaks  \\\n",
       "count    2126.000000    2126.000000                2126.000000   \n",
       "mean       93.579492     164.025400                   4.068203   \n",
       "std        29.560212      17.944183                   2.949386   \n",
       "min        50.000000     122.000000                   0.000000   \n",
       "25%        67.000000     152.000000                   2.000000   \n",
       "50%        93.000000     162.000000                   3.000000   \n",
       "75%       120.000000     174.000000                   6.000000   \n",
       "max       159.000000     238.000000                  18.000000   \n",
       "\n",
       "       histogram_number_of_zeroes  histogram_mode  histogram_mean  \\\n",
       "count                 2126.000000     2126.000000     2126.000000   \n",
       "mean                     0.323612      137.452023      134.610536   \n",
       "std                      0.706059       16.381289       15.593596   \n",
       "min                      0.000000       60.000000       73.000000   \n",
       "25%                      0.000000      129.000000      125.000000   \n",
       "50%                      0.000000      139.000000      136.000000   \n",
       "75%                      0.000000      148.000000      145.000000   \n",
       "max                     10.000000      187.000000      182.000000   \n",
       "\n",
       "       histogram_median  histogram_variance  histogram_tendency  fetal_health  \n",
       "count       2126.000000         2126.000000         2126.000000   2126.000000  \n",
       "mean         138.090310           18.808090            0.320320      1.304327  \n",
       "std           14.466589           28.977636            0.610829      0.614377  \n",
       "min           77.000000            0.000000           -1.000000      1.000000  \n",
       "25%          129.000000            2.000000            0.000000      1.000000  \n",
       "50%          139.000000            7.000000            0.000000      1.000000  \n",
       "75%          148.000000           24.000000            1.000000      1.000000  \n",
       "max          186.000000          269.000000            1.000000      3.000000  \n",
       "\n",
       "[8 rows x 22 columns]"
      ]
     },
     "execution_count": 6,
     "metadata": {},
     "output_type": "execute_result"
    }
   ],
   "source": [
    "df.describe()"
   ]
  },
  {
   "cell_type": "code",
   "execution_count": 7,
   "id": "6d1f93c7-788d-4059-aea0-cb4b7f953e91",
   "metadata": {},
   "outputs": [
    {
     "data": {
      "text/plain": [
       "13"
      ]
     },
     "execution_count": 7,
     "metadata": {},
     "output_type": "execute_result"
    }
   ],
   "source": [
    "df.duplicated().sum()"
   ]
  },
  {
   "cell_type": "code",
   "execution_count": 8,
   "id": "a3c98923-71b9-40b5-8ec5-51a0a0e00d58",
   "metadata": {},
   "outputs": [],
   "source": [
    "df.drop_duplicates(keep='first', inplace=True)"
   ]
  },
  {
   "cell_type": "code",
   "execution_count": 9,
   "id": "f076d0b3-3548-41d2-98de-828d2c878c16",
   "metadata": {
    "scrolled": true
   },
   "outputs": [
    {
     "data": {
      "text/plain": [
       "Index(['baseline value', 'accelerations', 'fetal_movement',\n",
       "       'uterine_contractions', 'light_decelerations', 'severe_decelerations',\n",
       "       'prolongued_decelerations', 'abnormal_short_term_variability',\n",
       "       'mean_value_of_short_term_variability',\n",
       "       'percentage_of_time_with_abnormal_long_term_variability',\n",
       "       'mean_value_of_long_term_variability', 'histogram_width',\n",
       "       'histogram_min', 'histogram_max', 'histogram_number_of_peaks',\n",
       "       'histogram_number_of_zeroes', 'histogram_mode', 'histogram_mean',\n",
       "       'histogram_median', 'histogram_variance', 'histogram_tendency',\n",
       "       'fetal_health'],\n",
       "      dtype='object')"
      ]
     },
     "execution_count": 9,
     "metadata": {},
     "output_type": "execute_result"
    }
   ],
   "source": [
    "df.columns"
   ]
  },
  {
   "cell_type": "code",
   "execution_count": 10,
   "id": "a1e3db1a-5481-4ba6-b9fa-266e80b61f86",
   "metadata": {},
   "outputs": [
    {
     "data": {
      "text/plain": [
       "fetal_health\n",
       "1.0    1646\n",
       "2.0     292\n",
       "3.0     175\n",
       "Name: count, dtype: int64"
      ]
     },
     "execution_count": 10,
     "metadata": {},
     "output_type": "execute_result"
    }
   ],
   "source": [
    "df.fetal_health.value_counts()"
   ]
  },
  {
   "cell_type": "code",
   "execution_count": 11,
   "id": "bf23b6b8-036b-4332-82ad-eb7389734331",
   "metadata": {},
   "outputs": [],
   "source": [
    "dct = {\n",
    "    1.0: 0,\n",
    "    2.0: 1,\n",
    "    3.0: 2\n",
    "}"
   ]
  },
  {
   "cell_type": "code",
   "execution_count": 12,
   "id": "4f3191a4-d0f2-4e7e-98ba-1ed9db3058ac",
   "metadata": {},
   "outputs": [
    {
     "name": "stderr",
     "output_type": "stream",
     "text": [
      "C:\\Users\\tobij\\AppData\\Local\\Temp\\ipykernel_19276\\990893057.py:1: UserWarning: Pandas doesn't allow columns to be created via a new attribute name - see https://pandas.pydata.org/pandas-docs/stable/indexing.html#attribute-access\n",
      "  df.codes = df.fetal_health.map(dct)\n"
     ]
    }
   ],
   "source": [
    "df.codes = df.fetal_health.map(dct)"
   ]
  },
  {
   "cell_type": "code",
   "execution_count": 13,
   "id": "5adde904-99ee-412f-878f-3ba466f1d2fb",
   "metadata": {},
   "outputs": [
    {
     "data": {
      "text/plain": [
       "0       1\n",
       "1       0\n",
       "2       0\n",
       "3       0\n",
       "4       0\n",
       "       ..\n",
       "2121    1\n",
       "2122    1\n",
       "2123    1\n",
       "2124    1\n",
       "2125    0\n",
       "Name: fetal_health, Length: 2113, dtype: int64"
      ]
     },
     "execution_count": 13,
     "metadata": {},
     "output_type": "execute_result"
    }
   ],
   "source": [
    "df.codes"
   ]
  },
  {
   "cell_type": "code",
   "execution_count": 14,
   "id": "0bce4292-86be-4984-b574-b91667f5f0a1",
   "metadata": {},
   "outputs": [],
   "source": [
    "x = df.iloc[:, :-1]\n",
    "y = df.codes"
   ]
  },
  {
   "cell_type": "code",
   "execution_count": 15,
   "id": "cf6104a4-6ec9-4940-b3e8-a66eb14ddac1",
   "metadata": {},
   "outputs": [
    {
     "data": {
      "text/plain": [
       "0       1\n",
       "1       0\n",
       "2       0\n",
       "3       0\n",
       "4       0\n",
       "       ..\n",
       "2121    1\n",
       "2122    1\n",
       "2123    1\n",
       "2124    1\n",
       "2125    0\n",
       "Name: fetal_health, Length: 2113, dtype: int64"
      ]
     },
     "execution_count": 15,
     "metadata": {},
     "output_type": "execute_result"
    }
   ],
   "source": [
    "y"
   ]
  },
  {
   "cell_type": "code",
   "execution_count": 16,
   "id": "b256dd46-8fec-4032-88f4-a25b1e2bdbcb",
   "metadata": {},
   "outputs": [],
   "source": [
    "from sklearn.model_selection import train_test_split"
   ]
  },
  {
   "cell_type": "code",
   "execution_count": 17,
   "id": "2b451991-fae1-4b1b-b464-3b8c4355b6a1",
   "metadata": {},
   "outputs": [],
   "source": [
    "x_train, x_test, y_train, y_test = train_test_split(x, y, test_size=0.2, random_state=0)"
   ]
  },
  {
   "cell_type": "code",
   "execution_count": 18,
   "id": "09cb1c6e-0a96-4b5a-926c-0cc3e0a157d7",
   "metadata": {},
   "outputs": [
    {
     "data": {
      "text/plain": [
       "1638    0\n",
       "583     0\n",
       "1830    0\n",
       "1642    0\n",
       "1402    1\n",
       "       ..\n",
       "1042    0\n",
       "1744    0\n",
       "768     2\n",
       "843     1\n",
       "1666    0\n",
       "Name: fetal_health, Length: 1690, dtype: int64"
      ]
     },
     "execution_count": 18,
     "metadata": {},
     "output_type": "execute_result"
    }
   ],
   "source": [
    "y_train"
   ]
  },
  {
   "cell_type": "code",
   "execution_count": 19,
   "id": "0c92ea7a-9525-4f21-94af-ce9aa5e9ac47",
   "metadata": {},
   "outputs": [],
   "source": [
    "from imblearn.over_sampling import SMOTE"
   ]
  },
  {
   "cell_type": "code",
   "execution_count": 20,
   "id": "4ce50b86-104a-4dc4-9f46-edc9f7fbc54f",
   "metadata": {},
   "outputs": [],
   "source": [
    "smote = SMOTE(sampling_strategy='auto')"
   ]
  },
  {
   "cell_type": "code",
   "execution_count": 21,
   "id": "4a3aca5b-a7e6-4159-af8b-72f05c0ccf41",
   "metadata": {},
   "outputs": [],
   "source": [
    "x_train_rs, y_train_rs = smote.fit_resample(x_train, y_train)"
   ]
  },
  {
   "cell_type": "code",
   "execution_count": 22,
   "id": "9e30ad80-9020-42e9-b57b-0f00f87ad172",
   "metadata": {},
   "outputs": [
    {
     "data": {
      "text/plain": [
       "(3939, 21)"
      ]
     },
     "execution_count": 22,
     "metadata": {},
     "output_type": "execute_result"
    }
   ],
   "source": [
    "x_train_rs.shape"
   ]
  },
  {
   "cell_type": "code",
   "execution_count": 23,
   "id": "219ac844-aa3e-463d-af98-db28afdc328e",
   "metadata": {},
   "outputs": [
    {
     "data": {
      "text/plain": [
       "0       0\n",
       "1       0\n",
       "2       0\n",
       "3       0\n",
       "4       1\n",
       "       ..\n",
       "3934    2\n",
       "3935    2\n",
       "3936    2\n",
       "3937    2\n",
       "3938    2\n",
       "Name: fetal_health, Length: 3939, dtype: int64"
      ]
     },
     "execution_count": 23,
     "metadata": {},
     "output_type": "execute_result"
    }
   ],
   "source": [
    "y_train_rs"
   ]
  },
  {
   "cell_type": "code",
   "execution_count": 24,
   "id": "76b34114-99e5-40d7-acb6-aae00b60597b",
   "metadata": {},
   "outputs": [],
   "source": [
    "from sklearn.preprocessing import StandardScaler"
   ]
  },
  {
   "cell_type": "code",
   "execution_count": 25,
   "id": "7b1eff94-0eb8-4bc6-a77c-ecfdf074deec",
   "metadata": {},
   "outputs": [],
   "source": [
    "scaler = StandardScaler()"
   ]
  },
  {
   "cell_type": "code",
   "execution_count": 26,
   "id": "3e7892c6-05d7-417e-af27-84ae97fca5d5",
   "metadata": {},
   "outputs": [],
   "source": [
    "x_train_rs = scaler.fit_transform(x_train_rs)\n",
    "x_test = scaler.transform(x_test)"
   ]
  },
  {
   "cell_type": "code",
   "execution_count": 27,
   "id": "dbf92a45-f8f0-41f4-ad77-bbae3e23cef4",
   "metadata": {},
   "outputs": [],
   "source": [
    "import keras"
   ]
  },
  {
   "cell_type": "code",
   "execution_count": 28,
   "id": "65e8ea4b-40a1-408a-8d21-2bda91cf6e11",
   "metadata": {},
   "outputs": [],
   "source": [
    "from keras.models import Sequential\n",
    "from keras.layers import Dense, Dropout, Conv1D, Flatten"
   ]
  },
  {
   "cell_type": "code",
   "execution_count": 29,
   "id": "12ac0934-08a0-4b9e-9ca1-9eab96e362db",
   "metadata": {},
   "outputs": [],
   "source": [
    "from keras.utils import to_categorical"
   ]
  },
  {
   "cell_type": "code",
   "execution_count": 30,
   "id": "3da0578c-7ecf-4279-8069-6e516e4f61c0",
   "metadata": {},
   "outputs": [],
   "source": [
    "from keras.regularizers import l2"
   ]
  },
  {
   "cell_type": "code",
   "execution_count": 31,
   "id": "76c5e6f8-8b17-44be-a2dd-f22e222a2f2a",
   "metadata": {},
   "outputs": [],
   "source": [
    "x_train_rs = x_train_rs.reshape(-1, 21, 1)"
   ]
  },
  {
   "cell_type": "code",
   "execution_count": 32,
   "id": "5908ae07-eda7-41f1-bfb7-e936fe84c3f5",
   "metadata": {},
   "outputs": [],
   "source": [
    "model = Sequential()\n",
    "model.add(Conv1D(filters=32, kernel_size=3, input_shape=(21, 1), activation='relu', kernel_regularizer=l2(0.01)))"
   ]
  },
  {
   "cell_type": "code",
   "execution_count": 33,
   "id": "adabdb02-49ab-463d-854f-27d3ff38afdb",
   "metadata": {},
   "outputs": [],
   "source": [
    "model.add(Flatten())\n",
    "model.add(Dense(16, activation='relu', kernel_regularizer=l2(0.01)))\n",
    "model.add(Dropout(0.2))\n",
    "model.add(Dense(32, activation='relu', kernel_regularizer=l2(0.01)))\n",
    "model.add(Dropout(0.2))\n",
    "model.add(Dense(3, activation='softmax'))"
   ]
  },
  {
   "cell_type": "code",
   "execution_count": 34,
   "id": "a3a9118a-e5e6-44cf-85aa-cd07617333b7",
   "metadata": {},
   "outputs": [],
   "source": [
    "model.compile(loss='categorical_crossentropy', metrics=['accuracy'], optimizer='adam')"
   ]
  },
  {
   "cell_type": "code",
   "execution_count": 35,
   "id": "70e8646e-422f-4e3c-bdbf-e31105a45772",
   "metadata": {},
   "outputs": [],
   "source": [
    "y_train_rs = to_categorical(y_train_rs, num_classes=3)"
   ]
  },
  {
   "cell_type": "code",
   "execution_count": 36,
   "id": "8c87bfaf-e1c3-4461-b226-a3a1f3406e45",
   "metadata": {},
   "outputs": [
    {
     "data": {
      "text/plain": [
       "<keras.callbacks.History at 0x1b955aaabe0>"
      ]
     },
     "execution_count": 36,
     "metadata": {},
     "output_type": "execute_result"
    }
   ],
   "source": [
    "model.fit(x_train_rs, y_train_rs, epochs=250, batch_size=64, verbose=0)"
   ]
  },
  {
   "cell_type": "code",
   "execution_count": 37,
   "id": "e585a93c-3d6d-4c77-989c-cd9f18c1e3fd",
   "metadata": {},
   "outputs": [
    {
     "name": "stdout",
     "output_type": "stream",
     "text": [
      "14/14 [==============================] - 0s 1ms/step\n"
     ]
    }
   ],
   "source": [
    "y_pred = model.predict(x_test)\n",
    "y_pred_labels = y_pred.argmax(axis=1)"
   ]
  },
  {
   "cell_type": "code",
   "execution_count": 39,
   "id": "09b61c64-e319-4c3e-a324-ce639f8deb92",
   "metadata": {},
   "outputs": [],
   "source": [
    "from sklearn.metrics import accuracy_score, precision_score, roc_auc_score"
   ]
  },
  {
   "cell_type": "code",
   "execution_count": 40,
   "id": "a71d40e4-cabd-4089-8c99-1314654c0669",
   "metadata": {},
   "outputs": [
    {
     "data": {
      "text/plain": [
       "0.9479905437352246"
      ]
     },
     "execution_count": 40,
     "metadata": {},
     "output_type": "execute_result"
    }
   ],
   "source": [
    "accuracy_score(y_test, y_pred_labels)"
   ]
  },
  {
   "cell_type": "code",
   "execution_count": 41,
   "id": "507c32e9-e19b-4852-b59c-bcd4cb70c672",
   "metadata": {},
   "outputs": [
    {
     "data": {
      "text/plain": [
       "0.9538775879643235"
      ]
     },
     "execution_count": 41,
     "metadata": {},
     "output_type": "execute_result"
    }
   ],
   "source": [
    "precision_score(y_test, y_pred_labels, average='weighted')"
   ]
  },
  {
   "cell_type": "code",
   "execution_count": 47,
   "id": "a50d0b70-88a1-4ed5-a949-f9ab07987ba9",
   "metadata": {},
   "outputs": [
    {
     "data": {
      "text/plain": [
       "0.987553730200789"
      ]
     },
     "execution_count": 47,
     "metadata": {},
     "output_type": "execute_result"
    }
   ],
   "source": [
    "roc_auc_score(y_test, y_pred, multi_class='ovo')"
   ]
  },
  {
   "cell_type": "code",
   "execution_count": null,
   "id": "982a778d-6623-4ed7-adca-f4a11137a5a8",
   "metadata": {},
   "outputs": [],
   "source": []
  }
 ],
 "metadata": {
  "kernelspec": {
   "display_name": "Python 3 (ipykernel)",
   "language": "python",
   "name": "python3"
  },
  "language_info": {
   "codemirror_mode": {
    "name": "ipython",
    "version": 3
   },
   "file_extension": ".py",
   "mimetype": "text/x-python",
   "name": "python",
   "nbconvert_exporter": "python",
   "pygments_lexer": "ipython3",
   "version": "3.9.7"
  }
 },
 "nbformat": 4,
 "nbformat_minor": 5
}
